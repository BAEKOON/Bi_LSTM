{
 "cells": [
  {
   "cell_type": "markdown",
   "metadata": {},
   "source": [
    "# code by Tae Hwan Jung(Jeff Jung) @graykode\n",
    "# Reference : https://github.com/prakashpandey9/Text-Classification-Pytorch/blob/master/models/LSTM_Attn.py"
   ]
  },
  {
   "cell_type": "code",
   "execution_count": 1,
   "metadata": {},
   "outputs": [],
   "source": [
    "import numpy as np\n",
    "import torch\n",
    "import torch.nn as nn\n",
    "import torch.optim as optim\n",
    "import torch.nn.functional as F\n",
    "import matplotlib.pyplot as plt"
   ]
  },
  {
   "cell_type": "markdown",
   "metadata": {},
   "source": [
    "# 모델 설계"
   ]
  },
  {
   "cell_type": "code",
   "execution_count": 6,
   "metadata": {},
   "outputs": [],
   "source": [
    "class BiLSTM_Attention(nn.Module):#신경망모듈 기본 클래스\n",
    "    # ^ Pytorch Module내에 딥러닝 모델 관련 기본 함수를 포함하고 있는 nn.Module 클레스를 상속받는 Net클래스를 정의.\n",
    "    def __init__(self): \n",
    "        super(BiLSTM_Attention, self).__init__() #클래스 초기화(bound super object; requires isinstance(obj, type))\n",
    "        self.embedding = nn.Embedding(vocab_size, embedding_dim) #사전의 크기, 임배딩 벡터의 크기\n",
    "        self.lstm = nn.LSTM(embedding_dim, n_hidden, bidirectional=True) #LSTM(임배딩 벡터의 크기, 은닉층 사이즈 ,양방향 LSTM)\n",
    "        self.out = nn.Linear(n_hidden * 2, num_classes)#선형변환(은닉유닛 사이즈*2[입력 샘플 크기], 출력 샘플 크기)\n",
    "\n",
    "    # v lstm_output : [batch_size, n_step, n_hidden * num_directions(=2)], F matrix\n",
    "    def attention_net(self, lstm_output, final_state): #어탠션 망 함수(self, lstm_output, 최종상태)\n",
    "        #print(\"lstm_output : \", lstm_output.size()) #6단 3행 10열\n",
    "        #print(\"final_state : \", final_state.size()) #2단 6행 5열\n",
    "        hidden = final_state.view(-1, n_hidden * 2, 1) \n",
    "        # 양식에 맞게 변환, hidden : [batch_size, n_hidden * num_directions(=2), 1(=n_layer)]\n",
    "        #print(\"hidden : \", hidden.size()) #6단 10행 1열\n",
    "        attn_weights = torch.bmm(lstm_output, hidden).squeeze(2) # 행렬 곱 수행, attn_weights : [batch_size, n_step]\n",
    "        #print(\"attn_weights : \", attn_weights.size()) #6행3열\n",
    "        soft_attn_weights = F.softmax(attn_weights, 1) # 계산할 깊이가 2, (input(tensor), dim)\n",
    "        #print(\"softmax : \", soft_attn_weights) #6행3열\n",
    "        # [batch_size, n_hidden * num_directions(=2), n_step] * [batch_size, n_step, 1] = [batch_size, n_hidden * num_directions(=2), 1]\n",
    "        #print(lstm_output)\n",
    "        context = torch.bmm(lstm_output.transpose(1, 2), soft_attn_weights.unsqueeze(2)).squeeze(2)\n",
    "        # transpose(차원 전치), 차원을 늘리고 3(unsqueeze), 차원을 줄임 3(squeeze)\n",
    "        return context, soft_attn_weights.data.numpy() # context : [batch_size, n_hidden * num_directions(=2)]\n",
    "                                            #tensor를 numpy로 반환\n",
    "    def forward(self, X):\n",
    "        input = self.embedding(X) # input : [batch_size, len_seq, embedding_dim]\n",
    "        #print(\"input1 : \", input) # 6단 3행 2열\n",
    "        input = input.permute(1, 0, 2) # input : [len_seq, batch_size, embedding_dim](원하는 차원의 순서 변환, 1,0,2)\n",
    "        #print(\"input2 : \", input) #3단 6행 2열 \n",
    "        hidden_state = torch.zeros(1*2, len(X), n_hidden) # [num_layers(=1) * num_directions(=2), batch_size, n_hidden], 2단 6행 5열\n",
    "        cell_state = torch.zeros(1*2, len(X), n_hidden) # [num_layers(=1) * num_directions(=2), batch_size, n_hidden]\n",
    "        #print(\"len(x) : \", len(X)) 결과:6\n",
    "        \n",
    "        # final_hidden_state, final_cell_state : [num_layers(=1) * num_directions(=2), batch_size, n_hidden]\n",
    "        output, (final_hidden_state, final_cell_state) = self.lstm(input, (hidden_state, cell_state)) \n",
    "        output = output.permute(1, 0, 2) # output : [batch_size, len_seq, n_hidden]\n",
    "        attn_output, attention = self.attention_net(output, final_hidden_state)\n",
    "        return self.out(attn_output), attention # model : [batch_size, num_classes], attention : [batch_size, n_step]"
   ]
  },
  {
   "cell_type": "markdown",
   "metadata": {},
   "source": [
    "# 준비 및 전처리"
   ]
  },
  {
   "cell_type": "code",
   "execution_count": 3,
   "metadata": {},
   "outputs": [
    {
     "name": "stdout",
     "output_type": "stream",
     "text": [
      "word_dic :  {'likes': 0, 'hate': 1, 'you': 2, 'me': 3, 'love': 4, 'sorry': 5, 'football': 6, 'i': 7, 'awful': 8, 'he': 9, 'loves': 10, 'this': 11, 'she': 12, 'is': 13, 'for': 14, 'that': 15}\n"
     ]
    }
   ],
   "source": [
    "if __name__ == '__main__':  # 프로그램의 시작점\n",
    "    embedding_dim = 2 # embedding size\n",
    "    n_hidden = 5  # number of hidden units in one cell\n",
    "    num_classes = 2  # 0 or 1\n",
    "\n",
    "    # 3 words sentences (=sequence_length is 3)\n",
    "    sentences = [\"i love you\", \"he loves me\", \"she likes football\", \"i hate you\", \"sorry for that\", \"this is awful\"]\n",
    "    labels = [1, 1, 1, 0, 0, 0]  # 1 is good, 0 is not good.\n",
    "\n",
    "    word_list = \" \".join(sentences).split() # join = 리스트에서 문자열로 토큰화\n",
    "    word_list = list(set(word_list)) # set = 집합선언\n",
    "    word_dict = {w: i for i, w in enumerate(word_list)} # 딕셔너리 선언, 몇번째 반복인지 확인\n",
    "    print(\"word_dic : \", word_dict) # ex) i:0, love:2....15\n",
    "    vocab_size = len(word_dict)  # dict의 길이\n",
    "\n",
    "    model = BiLSTM_Attention()   #모델 지정\n",
    "\n",
    "    criterion = nn.CrossEntropyLoss()\n",
    "    ''' \n",
    "    ^ loss 계산, corssentropy = C 클래스 로 분류 문제를 훈련 할 때 유용합니다 . \n",
    "    제공되는 경우 선택적 인수 weight는 각 클래스에 가중치를 할당 하는 1D Tensor 여야합니다 .\n",
    "    \n",
    "    이 모델의 output값과 계산될 Label값은 Class를 표현하는 원-핫 인코딩 값임.\n",
    "    모델의 output한 값과 원-핫 인코딩 결과의 Loss는 CrossEntropy를 이용하여 계산하기 위함.\n",
    "    '''\n",
    "    optimizer = optim.Adam(model.parameters(), lr=0.001) # 매개변수 최적화(model.parameters()), 아담\n",
    "    '''\n",
    "    ^ Back propagation을 통해 파라미터를 업데이트 할때 이용하는 Optimizer를 정의\n",
    "    '''\n",
    "    inputs = torch.LongTensor([np.asarray([word_dict[n] for n in sen.split()]) for sen in sentences])\n",
    "    #print(\"inputs : \", inputs.size()) #6행 3열\n",
    "    # ^ asarray는 ndarray(다차원 행렬 구조)로 타입 변경, ndarray는 기존 파이썬과는 다르게 오직 같은 종류의 데이터만을 배열에 담을 수 있다.\n",
    "    targets = torch.LongTensor([out for out in labels])  # To using Torch Softmax Loss function\n",
    "    #print(targets) 1행 6열\n",
    "    #텐서에는 자료형이라는 것이 있습니다. 각 데이터형별로 정의되어져 있는데, 64비트의 부호 있는 정수는 torch.LongTensor를 사용합니다. "
   ]
  },
  {
   "cell_type": "markdown",
   "metadata": {},
   "source": [
    "# Training"
   ]
  },
  {
   "cell_type": "code",
   "execution_count": 4,
   "metadata": {
    "scrolled": true
   },
   "outputs": [
    {
     "name": "stdout",
     "output_type": "stream",
     "text": [
      "Epoch: 1000 cost = 0.002880\n",
      "Epoch: 2000 cost = 0.000591\n",
      "Epoch: 3000 cost = 0.000231\n",
      "Epoch: 4000 cost = 0.000111\n",
      "Epoch: 5000 cost = 0.000059\n"
     ]
    }
   ],
   "source": [
    "    for epoch in range(5000):\n",
    "        optimizer.zero_grad()  # 최적화된 그레디언트 값을 0으로 반환\n",
    "        ''' \n",
    "        ^ 기존에 정의한 장비에 단어 데이터와 레이블 데이터를 할당할 경우, \n",
    "        과거에 이용한 mini-batch내에 있는 이미지 데이터와 레이블 데이터를 바탕으로 계산된 Loss의 Gradient값이 Optimizer에 할당돼 있으므로 \n",
    "        optimizer의 Gradient를 초기화 함.\n",
    "        '''\n",
    "        output, attention = model(inputs)\n",
    "        loss = criterion(output, targets)\n",
    "        \n",
    "        if (epoch + 1) % 1000 == 0:\n",
    "            print('Epoch:', '%04d' % (epoch + 1), 'cost =', '{:.6f}'.format(loss))\n",
    "\n",
    "        loss.backward()   # 역전파\n",
    "        ''' \n",
    "        ^ 계산된 loss 값에 대해 backward() 매서드를 이용하면 각 파라미터 값에 대해 Gradient를 계산하고\n",
    "        이를 통해 Back Progpagation을 진행한다는 것을 의미\n",
    "        '''\n",
    "        optimizer.step()   # 단일 최적화 단계 수행    \n",
    "        '''\n",
    "        ^ Loss값을 계산한 결과를 바탕으로 각 파라미터에 할당된 Gradient값을 이용해 파라미터 값을 업데이트.\n",
    "        '''"
   ]
  },
  {
   "cell_type": "markdown",
   "metadata": {},
   "source": [
    "# Test & Predict"
   ]
  },
  {
   "cell_type": "code",
   "execution_count": 5,
   "metadata": {},
   "outputs": [
    {
     "name": "stdout",
     "output_type": "stream",
     "text": [
      "sorry hate you is Bad Mean...\n"
     ]
    },
    {
     "name": "stderr",
     "output_type": "stream",
     "text": [
      "/usr/local/lib/python3.6/dist-packages/ipykernel_launcher.py:23: UserWarning: FixedFormatter should only be used together with FixedLocator\n",
      "/usr/local/lib/python3.6/dist-packages/ipykernel_launcher.py:24: UserWarning: FixedFormatter should only be used together with FixedLocator\n"
     ]
    },
    {
     "data": {
      "image/png": "[encoded data removed]",
      "text/plain": [
       "<Figure size 432x216 with 1 Axes>"
      ]
     },
     "metadata": {
      "needs_background": "light"
     },
     "output_type": "display_data"
    }
   ],
   "source": [
    "# v Test 자료 준비 \n",
    "    test_text = 'sorry hate you'\n",
    "    #test_text='sorry loves you'\n",
    "    tests = [np.asarray([word_dict[n] for n in test_text.split()])]\n",
    "    #print(\"tests : \", tests) #[array([12,10,2])]\n",
    "    test_batch = torch.LongTensor(tests)\n",
    "    #print(\"test_batch :\", test_batch.size()) #tensor([1,3])\n",
    "\n",
    "# Predict\n",
    "    predict, _ = model(test_batch)\n",
    "    predict = predict.data.max(1, keepdim=True)[1] # 텐서의 최대값 반환, 1차원으로 줄여야할 차원이 있는가?\n",
    "    if predict[0][0] == 0:\n",
    "        print(test_text,\"is Bad Mean...\")\n",
    "    else:\n",
    "        print(test_text,\"is Good Mean!!\")\n",
    "\n",
    "    fig = plt.figure(figsize=(6, 3)) # [batch_size, n_step]\n",
    "    ax = fig.add_subplot(1, 1, 1)\n",
    "    ax.matshow(attention, cmap='viridis')\n",
    "    ax.set_xticklabels(['']+['first_word', 'second_word', 'third_word'], fontdict={'fontsize': 14}, rotation=90)\n",
    "    ax.set_yticklabels(['']+['batch_1', 'batch_2', 'batch_3', 'batch_4', 'batch_5', 'batch_6'], fontdict={'fontsize': 14})\n",
    "    plt.show()"
   ]
  },
  {
   "cell_type": "code",
   "execution_count": null,
   "metadata": {},
   "outputs": [],
   "source": []
  }
 ],
 "metadata": {
  "kernelspec": {
   "display_name": "Python 3",
   "language": "python",
   "name": "python3"
  },
  "language_info": {
   "codemirror_mode": {
    "name": "ipython",
    "version": 3
   },
   "file_extension": ".py",
   "mimetype": "text/x-python",
   "name": "python",
   "nbconvert_exporter": "python",
   "pygments_lexer": "ipython3",
   "version": "3.6.9"
  }
 },
 "nbformat": 4,
 "nbformat_minor": 4
}
